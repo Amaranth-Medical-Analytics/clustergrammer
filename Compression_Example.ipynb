{
 "cells": [
  {
   "cell_type": "markdown",
   "metadata": {},
   "source": [
    "### https://www.reddit.com/r/learnpython/comments/74u1bz/using_pako_deflate_with_python/"
   ]
  },
  {
   "cell_type": "code",
   "execution_count": 1,
   "metadata": {},
   "outputs": [],
   "source": [
    "import gzip\n",
    "import json\n",
    "import base64"
   ]
  },
  {
   "cell_type": "code",
   "execution_count": 2,
   "metadata": {},
   "outputs": [],
   "source": [
    "my_dict = {'test': 'something!!!!!!!!'}"
   ]
  },
  {
   "cell_type": "code",
   "execution_count": 3,
   "metadata": {},
   "outputs": [],
   "source": [
    "data = json.dumps(my_dict, ensure_ascii=False).encode('utf-8')"
   ]
  },
  {
   "cell_type": "markdown",
   "metadata": {},
   "source": [
    "### gzip will naturally produce a byte string"
   ]
  },
  {
   "cell_type": "code",
   "execution_count": 4,
   "metadata": {},
   "outputs": [],
   "source": [
    "zipped = gzip.compress(data)"
   ]
  },
  {
   "cell_type": "code",
   "execution_count": 5,
   "metadata": {},
   "outputs": [
    {
     "data": {
      "text/plain": [
       "b'\\x1f\\x8b\\x08\\x00\\t\\xbc\\xbf[\\x02\\xff\\xabV*I-.Q\\xb2RP*\\xce\\xcfM-\\xc9\\xc8\\xccKW\\x84\\x02\\xa5Z\\x00\\x03\\xf1,\\x19\\x1d\\x00\\x00\\x00'"
      ]
     },
     "execution_count": 5,
     "metadata": {},
     "output_type": "execute_result"
    }
   ],
   "source": [
    "zipped"
   ]
  },
  {
   "cell_type": "markdown",
   "metadata": {},
   "source": [
    "### which b64encode can naturally use to produce the base64 byte string"
   ]
  },
  {
   "cell_type": "code",
   "execution_count": 6,
   "metadata": {},
   "outputs": [],
   "source": [
    "tmp = base64.b64encode(zipped)"
   ]
  },
  {
   "cell_type": "code",
   "execution_count": 7,
   "metadata": {},
   "outputs": [
    {
     "data": {
      "text/plain": [
       "b'H4sIAAm8v1sC/6tWKkktLlGyUlAqzs9NLcnIzEtXhAKlWgAD8SwZHQAAAA=='"
      ]
     },
     "execution_count": 7,
     "metadata": {},
     "output_type": "execute_result"
    }
   ],
   "source": [
    "tmp"
   ]
  },
  {
   "cell_type": "code",
   "execution_count": 8,
   "metadata": {},
   "outputs": [
    {
     "data": {
      "text/plain": [
       "b'\\x1f\\x8b\\x08\\x00\\t\\xbc\\xbf[\\x02\\xff\\xabV*I-.Q\\xb2RP*\\xce\\xcfM-\\xc9\\xc8\\xccKW\\x84\\x02\\xa5Z\\x00\\x03\\xf1,\\x19\\x1d\\x00\\x00\\x00'"
      ]
     },
     "execution_count": 8,
     "metadata": {},
     "output_type": "execute_result"
    }
   ],
   "source": [
    "zipped"
   ]
  },
  {
   "cell_type": "code",
   "execution_count": 9,
   "metadata": {},
   "outputs": [
    {
     "data": {
      "text/plain": [
       "b'{\"test\": \"something!!!!!!!!\"}'"
      ]
     },
     "execution_count": 9,
     "metadata": {},
     "output_type": "execute_result"
    }
   ],
   "source": [
    "gzip.decompress(zipped)"
   ]
  },
  {
   "cell_type": "code",
   "execution_count": null,
   "metadata": {},
   "outputs": [],
   "source": []
  },
  {
   "cell_type": "code",
   "execution_count": 26,
   "metadata": {},
   "outputs": [],
   "source": [
    "data = json.dumps(viz_json, ensure_ascii=False).encode('utf-8')\n",
    "zipped = gzip.compress(data)\n",
    "viz_json_b64 = base64.b64encode(zipped)"
   ]
  },
  {
   "cell_type": "code",
   "execution_count": 29,
   "metadata": {},
   "outputs": [
    {
     "data": {
      "text/plain": [
       "'{\"something\": \"something\"}'"
      ]
     },
     "execution_count": 29,
     "metadata": {},
     "output_type": "execute_result"
    }
   ],
   "source": [
    "tmp_json = {'something':'something'}\n",
    "json.dumps(tmp_json)"
   ]
  },
  {
   "cell_type": "code",
   "execution_count": 40,
   "metadata": {
    "scrolled": false
   },
   "outputs": [],
   "source": [
    "tmp_json = {'something':str(viz_json_b64)}\n",
    "# tmp_json = {'something':zipped}\n",
    "tmp_json_str = json.dumps(tmp_json)\n"
   ]
  },
  {
   "cell_type": "code",
   "execution_count": null,
   "metadata": {},
   "outputs": [],
   "source": []
  },
  {
   "cell_type": "code",
   "execution_count": 38,
   "metadata": {
    "scrolled": false
   },
   "outputs": [],
   "source": [
    "# comp_json = {'compressed':tmp}\n",
    "# data = json.dumps(comp_json, ensure_ascii=False).encode('utf-8')\n",
    "# # zipped = gzip.compress(data)\n",
    "# # tmp = base64.b64encode(zipped)"
   ]
  },
  {
   "cell_type": "markdown",
   "metadata": {},
   "source": [
    "### Load Real File"
   ]
  },
  {
   "cell_type": "code",
   "execution_count": 10,
   "metadata": {},
   "outputs": [],
   "source": [
    "# these are two functions that save and load data in json\n",
    "\n",
    "# save dict to json\n",
    "def save_to_json(inst_dict, filename, indent=True):\n",
    "  import json\n",
    "\n",
    "  # save as a json\n",
    "  fw = open(filename, 'w')\n",
    "  if indent == True:\n",
    "    fw.write( json.dumps(inst_dict, indent=2) )\n",
    "  else:\n",
    "    fw.write( json.dumps(inst_dict) )\n",
    "  fw.close()\n",
    "\n",
    "\n",
    "# load json to dict\n",
    "def load_to_dict( filename ):\n",
    "  import json\n",
    "  # load\n",
    "  f = open(filename,'r')\n",
    "  inst_dict = json.load(f)\n",
    "  f.close()\n",
    "  return inst_dict"
   ]
  },
  {
   "cell_type": "code",
   "execution_count": 12,
   "metadata": {},
   "outputs": [],
   "source": [
    "from clustergrammer_widget import *\n",
    "net = Network(clustergrammer_widget)"
   ]
  },
  {
   "cell_type": "code",
   "execution_count": 14,
   "metadata": {},
   "outputs": [],
   "source": [
    "net.load_file('data/txt/rc_two_cats.txt')\n",
    "net.cluster()\n",
    "viz_json = net.export_net_json()"
   ]
  },
  {
   "cell_type": "code",
   "execution_count": 15,
   "metadata": {},
   "outputs": [],
   "source": [
    "save_to_json(viz_json, 'uncompressed.json')"
   ]
  },
  {
   "cell_type": "markdown",
   "metadata": {},
   "source": [
    "### Save compressed JSON"
   ]
  },
  {
   "cell_type": "code",
   "execution_count": 44,
   "metadata": {},
   "outputs": [],
   "source": [
    "save_to_json(tmp_json, 'compressed.json')"
   ]
  },
  {
   "cell_type": "code",
   "execution_count": null,
   "metadata": {},
   "outputs": [],
   "source": []
  }
 ],
 "metadata": {
  "anaconda-cloud": {},
  "kernelspec": {
   "display_name": "Python 3",
   "language": "python",
   "name": "python3"
  },
  "language_info": {
   "codemirror_mode": {
    "name": "ipython",
    "version": 3
   },
   "file_extension": ".py",
   "mimetype": "text/x-python",
   "name": "python",
   "nbconvert_exporter": "python",
   "pygments_lexer": "ipython3",
   "version": "3.5.2"
  }
 },
 "nbformat": 4,
 "nbformat_minor": 2
}
